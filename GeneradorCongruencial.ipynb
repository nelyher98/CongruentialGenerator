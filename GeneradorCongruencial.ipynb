{
 "cells": [
  {
   "cell_type": "markdown",
   "metadata": {},
   "source": [
    "## Generadores congruenciales de secuencias pseudoaleatorias"
   ]
  },
  {
   "cell_type": "markdown",
   "metadata": {},
   "source": [
    "* Alumna: Hernández García Nely"
   ]
  },
  {
   "cell_type": "code",
   "execution_count": 28,
   "metadata": {},
   "outputs": [],
   "source": [
    "#Import Libraries\n",
    "import numpy as np\n",
    "import tkinter as tk \n",
    "from tkinter import *"
   ]
  },
  {
   "cell_type": "code",
   "execution_count": 46,
   "metadata": {},
   "outputs": [],
   "source": [
    "#Defining functions\n",
    "\n",
    "def linealMixto():\n",
    "        a = 8\n",
    "        b = 6\n",
    "        x0 = 2\n",
    "        m = 32\n",
    "        f_xn = []\n",
    "        aux = 0\n",
    "        for i in range(m):\n",
    "            if(i == 0):\n",
    "                f_xn.append(x0)\n",
    "            else:\n",
    "                aux = a*f_xn[i-1]+b\n",
    "                f_xn.append(aux % m)\n",
    "        lblLinealM.config(text=str(\"Sequence: \" + str(f_xn))) \n",
    "        lblLinealM.config(text=str(\"Generated data:\" +'\\n\\n'+ \"a: \" + str(a) + '\\n' + \"b: \" + str(b) + '\\n' + \"x0: \" + str(x0) + '\\n' + \"mod: \" + str(m))) \n",
    "\n",
    "def linealAditivo():\n",
    "        f_xn = [1, 2, 4, 8, 6]\n",
    "        faux = f_xn\n",
    "        k = len(f_xn)\n",
    "        m = 15\n",
    "        n = 25\n",
    "        aux = 0\n",
    "        for i in range(k, n):\n",
    "            aux = f_xn[i-1] + f_xn[i-k]\n",
    "            f_xn.append(aux % m)\n",
    "        lblLinealA.config(text=str(\"Sequence: \" + str(f_xn)))\n",
    "        lblLinealA.config(text=str(\"Generated data:\" + '\\n\\n' + \"Initial Sequence: \" + str(faux) + '\\n' + \"k: \" + str(k) + '\\n' + \"n: \" + str(n) + '\\n' + \"mod: \" + str(m)))             \n",
    "\n",
    "def cuadratico():\n",
    "        d = 3\n",
    "        a = 3\n",
    "        b = 0\n",
    "        m = 32\n",
    "        x0 = 2\n",
    "        n = 10\n",
    "        f_xn = []\n",
    "        aux = 0\n",
    "        for i in range(n):\n",
    "            if(i == 0):\n",
    "                f_xn.append(x0)\n",
    "            else:\n",
    "                aux = f_xn[i-1] * (f_xn[i-1] + 1)\n",
    "                f_xn.append(aux % m)\n",
    "        lblCuadratico.config(text=str(\"Sequence: \" + str(f_xn)))\n",
    "        lblCuadratico.config(text=str(\"Generated data:\" + '\\n\\n' + \"d: \" + str(d) + '\\n' + \"a: \" + str(a) + '\\n' + \"b: \" + str(b) + '\\n' + \"mod: \" + str(m) + '\\n' + \"x0: \" + str(x0) + '\\n' + \"n: \" + str(n)))"
   ]
  },
  {
   "cell_type": "code",
   "execution_count": 48,
   "metadata": {},
   "outputs": [],
   "source": [
    "root = tk.Tk()\n",
    "root.title(\"Tarea 01: Generadores congruenciales de secuencias pseudoaleatorias\")\n",
    "root.configure(background=\"#23BAC4\")\n",
    "\n",
    "#Creating a frame\n",
    "frame = tk.Frame(root, bg = \"#23BAC4\")\n",
    "frame.pack()\n",
    "\n",
    "#GUI\n",
    "lblname = Label(frame, text = 'Alumna: Nely Hernández García', bg=\"#23BAC4\", fg=\"white\")\n",
    "lblname.pack(pady=10, side = tk.TOP)\n",
    "\n",
    "w = tk.Button(frame, text=\"Lineal Mixto\", bg=\"blue\", fg=\"white\", command=linealMixto)\n",
    "w.pack(padx=5, pady=10, side=tk.LEFT)\n",
    "w = tk.Button(frame, text=\"Lineal Aditivo\",bg = \"green\", fg=\"white\", command=linealAditivo)\n",
    "w.pack(padx=5, pady=10, side=tk.LEFT)\n",
    "w = tk.Button(frame, text=\"Cuadrático\",bg = \"red\", fg=\"white\", command=cuadratico)\n",
    "w.pack(padx=5, pady=10, side=tk.LEFT)\n",
    "\n",
    "\n",
    "lblLinealM = tk.Label(root, fg=\"dark blue\")\n",
    "lblLinealM.pack(pady=10)\n",
    "\n",
    "lblLinealA = tk.Label(root, fg=\"dark green\")\n",
    "lblLinealA.pack(pady=10)\n",
    "\n",
    "lblCuadratico = tk.Label(root, fg=\"red\")\n",
    "lblCuadratico.pack(pady=10)\n",
    "                             \n",
    "root.mainloop()"
   ]
  },
  {
   "cell_type": "code",
   "execution_count": null,
   "metadata": {},
   "outputs": [],
   "source": []
  }
 ],
 "metadata": {
  "kernelspec": {
   "display_name": "Python 3",
   "language": "python",
   "name": "python3"
  },
  "language_info": {
   "codemirror_mode": {
    "name": "ipython",
    "version": 3
   },
   "file_extension": ".py",
   "mimetype": "text/x-python",
   "name": "python",
   "nbconvert_exporter": "python",
   "pygments_lexer": "ipython3",
   "version": "3.7.6"
  }
 },
 "nbformat": 4,
 "nbformat_minor": 4
}
