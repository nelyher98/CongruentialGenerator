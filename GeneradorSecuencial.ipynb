{
 "cells": [
  {
   "cell_type": "markdown",
   "metadata": {},
   "source": [
    "## Generador de secuencias pseudoaleatorias"
   ]
  },
  {
   "cell_type": "markdown",
   "metadata": {},
   "source": [
    "* Alumna: Hernández García Nely"
   ]
  },
  {
   "cell_type": "code",
   "execution_count": 1,
   "metadata": {},
   "outputs": [],
   "source": [
    "#Import Libraries\n",
    "import numpy as np\n",
    "import tkinter as tk \n",
    "from tkinter import *"
   ]
  },
  {
   "cell_type": "code",
   "execution_count": 7,
   "metadata": {},
   "outputs": [],
   "source": [
    "#Defining functions\n",
    "\n",
    "def lfsr1():\n",
    "        seed = '100000000000000000000000010101110'\n",
    "        taps = [32,7,5,3,2,1,0]\n",
    "        sr, xor = seed, 0\n",
    "        i = 0\n",
    "        m = 2\n",
    "        result = \"\"\n",
    "        while 1:\n",
    "            for t in taps:\n",
    "                xor += int(sr[t-1])\n",
    "            if xor % m == 0.0:\n",
    "                xor = 0\n",
    "            else:\n",
    "                xor = 1\n",
    "            result += str(xor)\n",
    "            sr, xor = str(xor) + sr[:-1], 0\n",
    "            if i == 120:\n",
    "                break\n",
    "            i += 1\n",
    "        lblLSFR1.config(text=str(\"120 bits binary sequence:  \" + '\\n\\n' + str(result)))\n",
    "        lblLSFR1.config(text=str( \"LFSR1 Data:\" + '\\n\\n' + \"seed: \" + str(seed) + '\\n' + \"mod: \" + str(m) + '\\n' + \"Primitive Polynomial: \" + str(taps)))\n",
    "        \n",
    "def lfsr2():\n",
    "        seed = '10000000000000000000000000000000000000000000011010'\n",
    "        taps = [45,4,3,1,0]\n",
    "        sr, xor = seed, 0\n",
    "        i = 0\n",
    "        m = 2\n",
    "        result = \"\"\n",
    "        while 1:\n",
    "            for t in taps:\n",
    "                xor += int(sr[t-1])\n",
    "            if xor % m == 0.0:\n",
    "                xor = 0\n",
    "            else:\n",
    "                xor = 1\n",
    "            result += str(xor)\n",
    "            sr, xor = str(xor) + sr[:-1], 0\n",
    "            if i == 120:\n",
    "                break\n",
    "            i += 1\n",
    "        lblLSFR2.config(text=str(\"120 bits binary sequence:  \" +  '\\n\\n' + str(result)))\n",
    "        lblLSFR2.config(text=str(\"LFSR2 Data:\" + '\\n\\n' + \"seed: \" + str(seed) + '\\n' + \"mod: \" + str(m) + '\\n' + \"Primitive Polynomial: \" + str(taps)))"
   ]
  },
  {
   "cell_type": "code",
   "execution_count": 16,
   "metadata": {},
   "outputs": [],
   "source": [
    "root = tk.Tk()\n",
    "root.title(\"Tarea 02: Generadores de secuencias pseudoaleatorias\")\n",
    "root.configure(background=\"#FFBF65\")\n",
    "\n",
    "#Creating a frame\n",
    "frame = tk.Frame(root, bg = \"#FFBF65\")\n",
    "frame.pack()\n",
    "\n",
    "#GUI\n",
    "lblname = Label(frame, text = 'Alumna: Nely Hernández García', bg=\"#FFBF65\", fg=\"white\")\n",
    "lblname.pack(pady=10, side = tk.TOP)\n",
    "lblname.config(font=(\"Courier\", 14))\n",
    "\n",
    "w = tk.Button(frame, text=\"LSFR 1\", bg=\"#8DD7BF\", fg=\"white\", command=lfsr1)\n",
    "w.pack(padx=5, pady=10, side=tk.LEFT)\n",
    "w.config(font=(\"Arial\", 12))\n",
    "w = tk.Button(frame, text=\"LSFR 2\",bg =\"#00A5E3\", fg=\"white\", command=lfsr2)\n",
    "w.pack(padx=5, pady=10, side=tk.LEFT)\n",
    "w.config(font=(\"Arial\", 12))\n",
    "\n",
    "\n",
    "lblLSFR1 = tk.Label(root, fg=\"#8DD7BF\")\n",
    "lblLSFR1.pack(pady=10)\n",
    "lblLSFR1.config(font=(\"Comic Sans MS\", 10))\n",
    "\n",
    "lblLSFR2 = tk.Label(root, fg=\"#00A5E3\")\n",
    "lblLSFR2.pack(pady=10)\n",
    "lblLSFR2.config(font=(\"Comic Sans MS\", 10))\n",
    "                             \n",
    "root.mainloop()"
   ]
  },
  {
   "cell_type": "code",
   "execution_count": null,
   "metadata": {},
   "outputs": [],
   "source": []
  }
 ],
 "metadata": {
  "kernelspec": {
   "display_name": "Python 3",
   "language": "python",
   "name": "python3"
  },
  "language_info": {
   "codemirror_mode": {
    "name": "ipython",
    "version": 3
   },
   "file_extension": ".py",
   "mimetype": "text/x-python",
   "name": "python",
   "nbconvert_exporter": "python",
   "pygments_lexer": "ipython3",
   "version": "3.7.6"
  }
 },
 "nbformat": 4,
 "nbformat_minor": 4
}
